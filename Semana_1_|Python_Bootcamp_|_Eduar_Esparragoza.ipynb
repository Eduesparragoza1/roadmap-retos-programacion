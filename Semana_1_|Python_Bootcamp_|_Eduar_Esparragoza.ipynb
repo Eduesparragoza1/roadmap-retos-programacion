{
  "nbformat": 4,
  "nbformat_minor": 0,
  "metadata": {
    "colab": {
      "provenance": [],
      "authorship_tag": "ABX9TyNCigpDGICBDrx4AsrOP/d3",
      "include_colab_link": true
    },
    "kernelspec": {
      "name": "python3",
      "display_name": "Python 3"
    },
    "language_info": {
      "name": "python"
    }
  },
  "cells": [
    {
      "cell_type": "markdown",
      "metadata": {
        "id": "view-in-github",
        "colab_type": "text"
      },
      "source": [
        "<a href=\"https://colab.research.google.com/github/Eduesparragoza1/roadmap-retos-programacion/blob/main/Semana_1_%7CPython_Bootcamp_%7C_Eduar_Esparragoza.ipynb\" target=\"_parent\"><img src=\"https://colab.research.google.com/assets/colab-badge.svg\" alt=\"Open In Colab\"/></a>"
      ]
    },
    {
      "cell_type": "markdown",
      "source": [
        "**¿Qué es un comentario?**\n",
        "\n",
        "Los comentarios son textos en tu código que Python ignora al ejecutar el programa.\n",
        "\n",
        "Puedes generarlas con:\n",
        "\n",
        "El # . La puedes aplicar ya sea en una línea completa o enfrente de una variable.\n",
        "\n"
      ],
      "metadata": {
        "id": "O3VqeTv-zuru"
      }
    },
    {
      "cell_type": "markdown",
      "source": [
        "# **EJERCICIO 1**"
      ],
      "metadata": {
        "id": "2n0MoFWW2xJR"
      }
    },
    {
      "cell_type": "code",
      "execution_count": 1,
      "metadata": {
        "id": "qFx-QONiLIeI"
      },
      "outputs": [],
      "source": [
        "#Esto es un comentario y yo soy Eduar, el que escribe el comentario"
      ]
    },
    {
      "cell_type": "markdown",
      "source": [
        "Puedes generar un \"similar\" a una multilínea. Debes usar tres doble comillas (\") al inicio y al final de donde quieres establecer el comentario."
      ],
      "metadata": {
        "id": "xZz_8mXe1kQR"
      }
    },
    {
      "cell_type": "markdown",
      "source": [
        "# **EJERCICIO 2**"
      ],
      "metadata": {
        "id": "PRlfPPGV2-fQ"
      }
    },
    {
      "cell_type": "code",
      "source": [
        "\"\"\"\n",
        "Este es otro comentario multilínea\n",
        "y yo soy nuevamente Eduar.\n",
        "\"\"\""
      ],
      "metadata": {
        "colab": {
          "base_uri": "https://localhost:8080/",
          "height": 36
        },
        "id": "UWXixuU52BB6",
        "outputId": "223fc779-21f9-43d9-8b72-2c96297ea178"
      },
      "execution_count": 2,
      "outputs": [
        {
          "output_type": "execute_result",
          "data": {
            "text/plain": [
              "'\\nEste es otro comentario multilínea\\ny yo soy nuevamente Eduar.\\n'"
            ],
            "application/vnd.google.colaboratory.intrinsic+json": {
              "type": "string"
            }
          },
          "metadata": {},
          "execution_count": 2
        }
      ]
    },
    {
      "cell_type": "markdown",
      "source": [
        "# **PRINT()**\n",
        "\n",
        "Vamos a avanzar con nuestro siguiente concepto, el cual es print.\n",
        "\n",
        "print es una función incorporada, es decir, Python lo tiene disponible por defecto, y sirve para mostrar información en pantalla o en la consola.\n",
        "\n",
        "Se puede usar para:\n",
        "\n",
        "Mostrar resultados al usuario\n",
        "Depurar (ver valores de variables mientras ejecutamos el programa)\n",
        "Presentar mensajes o textos\n",
        "Sintaxis\n",
        "Se destaca que:\n",
        "\n",
        "Siempre se escribe la palabra y luego los paréntesis.\n",
        "Dentro de los paréntesis va lo que quieres mostrar (textos, números, etc)\n",
        "El texto se escribe entre comillas dobles (\") o simples (')."
      ],
      "metadata": {
        "id": "x1o_MWJ-2SzA"
      }
    },
    {
      "cell_type": "markdown",
      "source": [
        "# **EJERCICIO 1: PRINT()**"
      ],
      "metadata": {
        "id": "N93LT6u34hm0"
      }
    },
    {
      "cell_type": "code",
      "source": [
        "print(\"Hola Python\") #imprime en pantalla la palabra python"
      ],
      "metadata": {
        "colab": {
          "base_uri": "https://localhost:8080/"
        },
        "id": "m8J9JF4G4dhg",
        "outputId": "3636be6d-3d32-4234-c4a1-cbfe09497769"
      },
      "execution_count": 3,
      "outputs": [
        {
          "output_type": "stream",
          "name": "stdout",
          "text": [
            "Hola Python\n"
          ]
        }
      ]
    },
    {
      "cell_type": "markdown",
      "source": [
        "# **EJERCICIO 2: PRINT()**"
      ],
      "metadata": {
        "id": "o372yixu4vrd"
      }
    },
    {
      "cell_type": "code",
      "source": [
        "print(\"33\") #imprime en pantalla el númeor 33"
      ],
      "metadata": {
        "colab": {
          "base_uri": "https://localhost:8080/"
        },
        "id": "7vE1yW3D40RX",
        "outputId": "42e1be49-c1e3-41b7-ef61-b239a4afbdcc"
      },
      "execution_count": 4,
      "outputs": [
        {
          "output_type": "stream",
          "name": "stdout",
          "text": [
            "33\n"
          ]
        }
      ]
    },
    {
      "cell_type": "markdown",
      "source": [
        "# **EJERCICIO 3:PRINT()**"
      ],
      "metadata": {
        "id": "LfEnlR6F45Ss"
      }
    },
    {
      "cell_type": "code",
      "source": [
        "print(\"Hola\", \"amigos\", \"aprendiendo\", \"Python\") #imprime en pantalla palabras separadas por (,)"
      ],
      "metadata": {
        "colab": {
          "base_uri": "https://localhost:8080/"
        },
        "id": "S5Qvh9CA5B0w",
        "outputId": "48dcc62e-636d-4607-afac-d9d1597450f1"
      },
      "execution_count": 13,
      "outputs": [
        {
          "output_type": "stream",
          "name": "stdout",
          "text": [
            "Hola amigos aprendiendo Python\n"
          ]
        }
      ]
    },
    {
      "cell_type": "markdown",
      "source": [
        "# **EJERCICIO 4:PRINT()**"
      ],
      "metadata": {
        "id": "ieyqxbWW5IBf"
      }
    },
    {
      "cell_type": "code",
      "source": [
        "print(\"Hola\", \"soy Eduar\", \"tengo\", 40 , \"años\") #imprime en pantalla texto plano y número separados por (,)"
      ],
      "metadata": {
        "colab": {
          "base_uri": "https://localhost:8080/"
        },
        "id": "A6QamGPc7MWU",
        "outputId": "5f9f3c96-871a-48ab-d7aa-e9196c85fdf5"
      },
      "execution_count": 14,
      "outputs": [
        {
          "output_type": "stream",
          "name": "stdout",
          "text": [
            "Hola soy Eduar tengo 40 años\n"
          ]
        }
      ]
    },
    {
      "cell_type": "markdown",
      "source": [
        "# **INPUT()**\n",
        "Hablemos de otra función que Python incluye por defecto, input()\n",
        "\n",
        "Esta función sirve para:\n",
        "\n",
        "Pedir datos al usuario mientras el programa está en ejecución.\n",
        "Detener el programa y esperar a que el usuario escriba algo y presione Enter. Con esto capturamos su respuesta.\n",
        "El valor capturado siempre es un texto (tipo str), incluso si el usuario escribe un número."
      ],
      "metadata": {
        "id": "auaHSyTA8d07"
      }
    },
    {
      "cell_type": "markdown",
      "source": [
        "# **EJERCICIO 1: INPUT()**"
      ],
      "metadata": {
        "id": "JXdOBvug-Q5l"
      }
    },
    {
      "cell_type": "markdown",
      "source": [],
      "metadata": {
        "id": "kvoWDboC8dzC"
      }
    },
    {
      "cell_type": "code",
      "source": [
        "color = input(\"Cual es tu color favorito?\") #pide al usuario un color\n",
        "print(\"El color que escogiste\", color ,\"es hermoso\") #imprime en pantalla el color que eligio el usuario"
      ],
      "metadata": {
        "colab": {
          "base_uri": "https://localhost:8080/"
        },
        "id": "S3jc8XI68nQE",
        "outputId": "6b8e04b0-d4e3-477e-8d5b-d81ce52a2afb"
      },
      "execution_count": 17,
      "outputs": [
        {
          "output_type": "stream",
          "name": "stdout",
          "text": [
            "Cual es tu color favorito?rojo\n",
            "El color que escogiste rojo es hermoso\n"
          ]
        }
      ]
    },
    {
      "cell_type": "markdown",
      "source": [
        "# **EJERCICIO 2: INPUT()**"
      ],
      "metadata": {
        "id": "u_oIGtAhArt9"
      }
    },
    {
      "cell_type": "code",
      "source": [
        "numero = input(\"Cual es tu numero favorito?\") #pide al usuario su número favorito\n",
        "print(\"El número\", numero, \"Esta entre los de buena suerte\") #imprime en pantalla el número favorito del usuario"
      ],
      "metadata": {
        "colab": {
          "base_uri": "https://localhost:8080/"
        },
        "id": "iQeQtbybAxUQ",
        "outputId": "3333aba2-5472-41d1-ee33-6baa64476de9"
      },
      "execution_count": 21,
      "outputs": [
        {
          "output_type": "stream",
          "name": "stdout",
          "text": [
            "Cual es tu numero favorito?7\n",
            "El número 7 Esta entre los de buena suerte\n"
          ]
        }
      ]
    },
    {
      "cell_type": "markdown",
      "source": [
        "# **EJERCICIO 3: INPUT()**"
      ],
      "metadata": {
        "id": "HxdagLhaBJzk"
      }
    },
    {
      "cell_type": "code",
      "source": [
        "cancion = input(\"Cual es tu canción favorita?\") #pide al usuario su canción favorita\n",
        "pelicula = input(\"Cual es tu película favorita?\") #pide al usuario su película favorita\n",
        "\n",
        "print(\"Casualidad tambíen me gusta la canción\",cancion, \"y la pelicula\", pelicula,\"son muy buenas\" ) #imprime en pantalla la canción y película favorita del usuario"
      ],
      "metadata": {
        "colab": {
          "base_uri": "https://localhost:8080/"
        },
        "id": "Ed6533AZBM4n",
        "outputId": "d1a519e3-7b1d-40ac-c360-caf1e8d60af8"
      },
      "execution_count": 20,
      "outputs": [
        {
          "output_type": "stream",
          "name": "stdout",
          "text": [
            "Cual es tu canción favorita?Todo por ti\n",
            "Cual es tu película favorita?interestelar\n",
            "Casualidad tambíen me gusta la canción Todo por ti y la pelicula interestelar son muy buenas\n"
          ]
        }
      ]
    },
    {
      "cell_type": "markdown",
      "source": [
        "# **¿Qué es una variable?**\n",
        "En Python, las variables almacenan datos para poder usarlos más tarde en el programa.\n",
        "\n",
        "Es como una caja con una etiqueta:\n",
        "\n",
        "La etiqueta es el nombre de la variable\n",
        "Dentro de la caja guardas un valor (número, texto, etc)"
      ],
      "metadata": {
        "id": "35RrEJRkCofY"
      }
    },
    {
      "cell_type": "markdown",
      "source": [
        "# **Ejercicio 1: Variables**"
      ],
      "metadata": {
        "id": "NJI9wTL1Fxgh"
      }
    },
    {
      "cell_type": "code",
      "source": [
        "ciudad = \"Riobamba\" #nombrando variable\n",
        "print(ciudad) #imprimiendo variable"
      ],
      "metadata": {
        "colab": {
          "base_uri": "https://localhost:8080/"
        },
        "id": "hW3GAPAOCrWc",
        "outputId": "437d3183-0fc8-4ef1-a05d-5914c409b900"
      },
      "execution_count": 26,
      "outputs": [
        {
          "output_type": "stream",
          "name": "stdout",
          "text": [
            "Riobamba\n"
          ]
        }
      ]
    },
    {
      "cell_type": "markdown",
      "source": [
        "# **Ejercicio 2: Variables**"
      ],
      "metadata": {
        "id": "Mko7thZlGF8f"
      }
    },
    {
      "cell_type": "code",
      "source": [
        "nombre = \"Eduar\" #variable nombre\n",
        "apellido = \"Esparragoza\" #variable apellido\n",
        "edad = 40\n",
        "print(\"Mi nombre es\", nombre, apellido,\"Tengo\", 40,\"años\") #imprimiendo en una sola linea ambas variables"
      ],
      "metadata": {
        "colab": {
          "base_uri": "https://localhost:8080/"
        },
        "id": "VNkEFY7YGIhD",
        "outputId": "933b7e0d-c84b-435f-cf9a-632a4824b543"
      },
      "execution_count": 29,
      "outputs": [
        {
          "output_type": "stream",
          "name": "stdout",
          "text": [
            "Mi nombre es Eduar Esparragoza Tengo 40 años\n"
          ]
        }
      ]
    },
    {
      "cell_type": "markdown",
      "source": [
        "# **Ejercicio 3: Variables**"
      ],
      "metadata": {
        "id": "RIJmOIdTG3nN"
      }
    },
    {
      "cell_type": "code",
      "source": [
        "apellido = \"Matínez\" #creando variable\n",
        "print(apellido) #imprimiendo variable apellido"
      ],
      "metadata": {
        "colab": {
          "base_uri": "https://localhost:8080/"
        },
        "id": "x8BIgXPiG7c6",
        "outputId": "264c5565-d058-454e-cab4-e8757f27bc59"
      },
      "execution_count": 6,
      "outputs": [
        {
          "output_type": "stream",
          "name": "stdout",
          "text": [
            "Matínez\n"
          ]
        }
      ]
    },
    {
      "cell_type": "markdown",
      "source": [
        "# **Ejercicio 4: Variables**"
      ],
      "metadata": {
        "id": "MkJH_uBdHKaW"
      }
    },
    {
      "cell_type": "code",
      "source": [
        "nombre_usuario = \"Pedro\" #creando variable nombre con estilo serpiente\n",
        "print(nombre_usuario) #imprimiendo variable nombre"
      ],
      "metadata": {
        "colab": {
          "base_uri": "https://localhost:8080/"
        },
        "id": "2nKvzvbMHMbC",
        "outputId": "0b50df1f-12aa-4ddb-9ad4-c69216807135"
      },
      "execution_count": 7,
      "outputs": [
        {
          "output_type": "stream",
          "name": "stdout",
          "text": [
            "Pedro\n"
          ]
        }
      ]
    },
    {
      "cell_type": "markdown",
      "source": [
        "# **Ejercicio 5: Variables**"
      ],
      "metadata": {
        "id": "98Xcr84V31p1"
      }
    },
    {
      "cell_type": "code",
      "source": [
        "#Demostrando que se puede definir diferentes variables con el mismo nombre, con mayuscula o minuscula\n",
        "curso = 8\n",
        "CURSO = \"A\"\n",
        "print(\"En el curso obtuvistes\", curso,\"Mientras que en CURSO obtuviste\", CURSO)"
      ],
      "metadata": {
        "colab": {
          "base_uri": "https://localhost:8080/"
        },
        "id": "ZZkbun_F35w3",
        "outputId": "e10c1560-f241-4bae-f07e-1cf241c90a4c"
      },
      "execution_count": 2,
      "outputs": [
        {
          "output_type": "stream",
          "name": "stdout",
          "text": [
            "En el curso obtuvistes 8 Mientras que en CURSO obtuviste A\n"
          ]
        }
      ]
    },
    {
      "cell_type": "markdown",
      "source": [
        "# **Ejercicio 6: Variables**"
      ],
      "metadata": {
        "id": "LeUKsQ9O428A"
      }
    },
    {
      "cell_type": "code",
      "source": [
        "nombre_completo_usuario = \"Edison Guierrez\" #Creando variable cestilo serpiente\n",
        "print(nombre_completo_usuario)"
      ],
      "metadata": {
        "colab": {
          "base_uri": "https://localhost:8080/"
        },
        "id": "XkvqPkGU455P",
        "outputId": "32c42d53-b955-4ab7-f71f-3af386bcad68"
      },
      "execution_count": 4,
      "outputs": [
        {
          "output_type": "stream",
          "name": "stdout",
          "text": [
            "Edison Guierrez\n"
          ]
        }
      ]
    },
    {
      "cell_type": "markdown",
      "source": [
        "# **Ejercicio 7: Variables**"
      ],
      "metadata": {
        "id": "ydRDY3CP5MjI"
      }
    },
    {
      "cell_type": "code",
      "source": [
        "precio_venta = 150 #creando variable numero\n",
        "print(precio_venta)"
      ],
      "metadata": {
        "colab": {
          "base_uri": "https://localhost:8080/"
        },
        "id": "iN4Fxj9U5MGV",
        "outputId": "77f773a3-92ce-4566-a7f0-be0eef27c660"
      },
      "execution_count": 5,
      "outputs": [
        {
          "output_type": "stream",
          "name": "stdout",
          "text": [
            "150\n"
          ]
        }
      ]
    },
    {
      "cell_type": "markdown",
      "source": [
        "# **¿Qué son los tipos de datos primitivos?**\n",
        "En Python, un dato primitivo es el tipo de dato más básico con el que el lenguaje trabaja.\n",
        "\n",
        "No son estructuras complejas, sino piezas fundamentales que se usan para construir cualquier programa.\n",
        "\n",
        "Los principales tipos primitivos son:\n",
        "\n",
        "str. Cadenas de texto\n",
        "int. Números enteros\n",
        "float. Números decimales\n",
        "bool. Valores lógicos (True o False)"
      ],
      "metadata": {
        "id": "WaXvgiUo6I_i"
      }
    },
    {
      "cell_type": "markdown",
      "source": [
        "# **Ejercicio 1: Primitivos**"
      ],
      "metadata": {
        "id": "1cTNB7y_6az1"
      }
    },
    {
      "cell_type": "code",
      "source": [
        "pais = \"Ecuador\" #Creando variable país\n",
        "print(type(pais)) #imprimiendo variable país pero verificando el tipo de datos"
      ],
      "metadata": {
        "colab": {
          "base_uri": "https://localhost:8080/"
        },
        "id": "TD42kfwL6fEy",
        "outputId": "6bf5f611-978b-493f-d6f0-a57e801a7137"
      },
      "execution_count": 8,
      "outputs": [
        {
          "output_type": "stream",
          "name": "stdout",
          "text": [
            "<class 'str'>\n"
          ]
        }
      ]
    },
    {
      "cell_type": "markdown",
      "source": [
        "# **Textos planos (str)**\n",
        "\n",
        "En Python, una cadena de texto o string es una secuencia de caracteres encerrada entre comillas simples(') o dobles(\").\n",
        "\n",
        "Ambos son válidos y significan lo mismo.\n",
        "\n",
        "Características\n",
        "Siempre entre comillas simples o dobles.\n",
        "Puede contener letras, números, espacios y símbolos.\n",
        "Son inmutables. Más adelante cuando veamos modificaciones, podrás ver la diferencia, pero te dejo el ejemplo como nota para que puedes identificar de qué trata."
      ],
      "metadata": {
        "id": "aWKbZdAc7QuR"
      }
    },
    {
      "cell_type": "markdown",
      "source": [
        "# **Ejercicio 1: Textos**"
      ],
      "metadata": {
        "id": "s-D2huJY9kGb"
      }
    },
    {
      "cell_type": "code",
      "source": [
        "nombre = \"Eduar\" #creación de variable nombre\n",
        "print(nombre)"
      ],
      "metadata": {
        "colab": {
          "base_uri": "https://localhost:8080/"
        },
        "id": "q2LNAf417bZh",
        "outputId": "94837985-7447-4886-dfff-664ac3878053"
      },
      "execution_count": 10,
      "outputs": [
        {
          "output_type": "stream",
          "name": "stdout",
          "text": [
            "Eduar\n"
          ]
        }
      ]
    },
    {
      "cell_type": "markdown",
      "source": [
        "# **Ejercicio 2: Textos**"
      ],
      "metadata": {
        "id": "qs1L0Gb_9nJg"
      }
    },
    {
      "cell_type": "code",
      "source": [
        "nombre = \"Eduar\" #creación de variable nombre\n",
        "apellido = \"Esparragoza\" #creación de variable apellido\n",
        "print(nombre +\" \"+apellido) #impresión de ambas variables en una sola linea"
      ],
      "metadata": {
        "colab": {
          "base_uri": "https://localhost:8080/"
        },
        "id": "0Wm-H9fY9qIB",
        "outputId": "11b19e48-f27f-4cff-8b23-5239194f6f8c"
      },
      "execution_count": 12,
      "outputs": [
        {
          "output_type": "stream",
          "name": "stdout",
          "text": [
            "Eduar Esparragoza\n"
          ]
        }
      ]
    },
    {
      "cell_type": "markdown",
      "source": [
        "# **Ejercicio 3: Textos**"
      ],
      "metadata": {
        "id": "nNretvvv-Dz4"
      }
    },
    {
      "cell_type": "code",
      "source": [
        "variable = \"Estoy estudiando: 'Python'\" #creación de variable con comilas dobles y dentro comillas simples\n",
        "print(variable)"
      ],
      "metadata": {
        "colab": {
          "base_uri": "https://localhost:8080/"
        },
        "id": "irUS0CQ3-HBe",
        "outputId": "e87dd43a-6292-4f51-b4bc-408055b3d613"
      },
      "execution_count": 15,
      "outputs": [
        {
          "output_type": "stream",
          "name": "stdout",
          "text": [
            "Estoy estudiando: 'Python'\n"
          ]
        }
      ]
    },
    {
      "cell_type": "markdown",
      "source": [
        "# **Ejercicio 4: Textos**"
      ],
      "metadata": {
        "id": "jsPljaiG-rk1"
      }
    },
    {
      "cell_type": "code",
      "source": [
        "frase = \"El lenguaje Python es 'genial'\" #se arreglo la sintaxys del lengaje\n",
        "print(frase)"
      ],
      "metadata": {
        "colab": {
          "base_uri": "https://localhost:8080/"
        },
        "id": "EIGEa5TG-vyt",
        "outputId": "5af05d11-bcfc-461c-b4a0-a4b0382ba9e4"
      },
      "execution_count": 18,
      "outputs": [
        {
          "output_type": "stream",
          "name": "stdout",
          "text": [
            "El lenguaje Python es 'genial'\n"
          ]
        }
      ]
    },
    {
      "cell_type": "markdown",
      "source": [
        "# **Números (int, float)**\n",
        "\n"
      ],
      "metadata": {
        "id": "-FXgV5YgEfgh"
      }
    },
    {
      "cell_type": "markdown",
      "source": [
        "# **Ejercicio 1: Numbers**"
      ],
      "metadata": {
        "id": "khyzcs9aE_fv"
      }
    },
    {
      "cell_type": "code",
      "source": [
        "edad = 25 #creación de variable con número entero\n",
        "print(edad)"
      ],
      "metadata": {
        "colab": {
          "base_uri": "https://localhost:8080/"
        },
        "id": "VtgegOwQFB-u",
        "outputId": "e9dcaac3-c1ff-418b-95e2-d37c4deeafcd"
      },
      "execution_count": 19,
      "outputs": [
        {
          "output_type": "stream",
          "name": "stdout",
          "text": [
            "25\n"
          ]
        }
      ]
    },
    {
      "cell_type": "markdown",
      "source": [
        "Ejercicio 2: Numbers"
      ],
      "metadata": {
        "id": "6BKgVAU1FJwu"
      }
    },
    {
      "cell_type": "code",
      "source": [
        "pi = 3.1416 #creación de variable con decimal\n",
        "print(pi)"
      ],
      "metadata": {
        "colab": {
          "base_uri": "https://localhost:8080/"
        },
        "id": "duD0LfgTFLzW",
        "outputId": "116701e3-1a6a-4279-ab59-66a6050a61cc"
      },
      "execution_count": 20,
      "outputs": [
        {
          "output_type": "stream",
          "name": "stdout",
          "text": [
            "3.1416\n"
          ]
        }
      ]
    },
    {
      "cell_type": "markdown",
      "source": [
        "# **Ejercicio 3: Numbers**"
      ],
      "metadata": {
        "id": "970Wk0fTF2Jl"
      }
    },
    {
      "cell_type": "code",
      "source": [
        "#creación de variables con número decimal y entero\n",
        "precio = 150.50\n",
        "precio2 = 80\n",
        "print(precio,\" y\", precio2) #impresión de ambas variables en una linea"
      ],
      "metadata": {
        "colab": {
          "base_uri": "https://localhost:8080/"
        },
        "id": "x_HJ9SbpF5C0",
        "outputId": "97410a8c-e9b2-479f-d212-f399453d8058"
      },
      "execution_count": 25,
      "outputs": [
        {
          "output_type": "stream",
          "name": "stdout",
          "text": [
            "150.5  y 80\n"
          ]
        }
      ]
    },
    {
      "cell_type": "markdown",
      "source": [
        "# **Booleanos (bool)**"
      ],
      "metadata": {
        "id": "eN_J45aoGnWS"
      }
    },
    {
      "cell_type": "markdown",
      "source": [
        "# **Ejercicio 1: Boolean**"
      ],
      "metadata": {
        "id": "mBKWrsoJIhgO"
      }
    },
    {
      "cell_type": "code",
      "source": [
        "el_corre = True #creación de variable con valor verdadero\n",
        "print(el_corre)"
      ],
      "metadata": {
        "colab": {
          "base_uri": "https://localhost:8080/"
        },
        "id": "ohw8D_pgGpuJ",
        "outputId": "12d57516-32ea-46b0-aeca-01ed84ce3107"
      },
      "execution_count": 26,
      "outputs": [
        {
          "output_type": "stream",
          "name": "stdout",
          "text": [
            "True\n"
          ]
        }
      ]
    },
    {
      "cell_type": "markdown",
      "source": [
        "# **Ejercicio 2: Boolean**"
      ],
      "metadata": {
        "id": "WBn0xmjhImGM"
      }
    },
    {
      "cell_type": "code",
      "source": [
        "tiene_hambre = False #creación de variable con valor falso\n",
        "print(tiene_hambre)"
      ],
      "metadata": {
        "colab": {
          "base_uri": "https://localhost:8080/"
        },
        "id": "ShYUNRY8IrPL",
        "outputId": "59f15e30-44b5-4cc6-d4f6-fa13abd88a2e"
      },
      "execution_count": 27,
      "outputs": [
        {
          "output_type": "stream",
          "name": "stdout",
          "text": [
            "False\n"
          ]
        }
      ]
    },
    {
      "cell_type": "markdown",
      "source": [
        "# **Operaciones Básicas**"
      ],
      "metadata": {
        "id": "tRdtIHxvJWtT"
      }
    },
    {
      "cell_type": "markdown",
      "source": [
        "Hablemos de las operaciones básicas.\n",
        "\n",
        "En Python, podemos realizar operaciones matemáticas con operadores aritméticos. Veamos los que más resaltan:\n",
        "\n",
        "Suma (+)\n",
        "Resta (-)\n",
        "Multiplicación (*)\n",
        "División (/)\n",
        "División Entera (//)\n",
        "Módulo (resto división) (%)\n",
        "Potencia (**)\n",
        "Características\n",
        "Vamos a destacar puntos:\n",
        "\n",
        "Si una operación involucra float, el resultado será float (excepto // que redondea hacia abajo)\n",
        "La división / siempre devuelve float, incluso si es exacta (4 / 2 -> 2.0)\n",
        "El operador % devuelve el resto de la división, también conocido como módulo.\n",
        "El operador ** se usa para potencias. Por ejemplo: 2 ** 5 es 2^5"
      ],
      "metadata": {
        "id": "IxoXOqGSJYWJ"
      }
    },
    {
      "cell_type": "markdown",
      "source": [
        "# **Ejercicio 1: Operaciones**"
      ],
      "metadata": {
        "id": "RqaMcsmDKM4J"
      }
    },
    {
      "cell_type": "code",
      "source": [
        "#Creacion de variable con el proceso de suma\n",
        "suma = 8 + 8\n",
        "print(suma)"
      ],
      "metadata": {
        "colab": {
          "base_uri": "https://localhost:8080/"
        },
        "id": "krGGQ_yLJchB",
        "outputId": "5702bd88-ac22-4685-d444-f1362287c1ab"
      },
      "execution_count": 28,
      "outputs": [
        {
          "output_type": "stream",
          "name": "stdout",
          "text": [
            "16\n"
          ]
        }
      ]
    },
    {
      "cell_type": "markdown",
      "source": [
        "# **Ejercicio 2: Operaciones**"
      ],
      "metadata": {
        "id": "jB4zxCq-KVT2"
      }
    },
    {
      "cell_type": "code",
      "source": [
        "#creación de variables con el proceso de resta\n",
        "resta = 15 - 7\n",
        "print(resta)"
      ],
      "metadata": {
        "colab": {
          "base_uri": "https://localhost:8080/"
        },
        "id": "nGUz83ECKYOJ",
        "outputId": "68fdba6b-c188-49f6-8738-dd9a4adfaa0d"
      },
      "execution_count": 29,
      "outputs": [
        {
          "output_type": "stream",
          "name": "stdout",
          "text": [
            "8\n"
          ]
        }
      ]
    },
    {
      "cell_type": "markdown",
      "source": [
        "# **Ejercicio 3: Operaciones**"
      ],
      "metadata": {
        "id": "0JwlAP_wKfyW"
      }
    },
    {
      "cell_type": "code",
      "source": [
        "#creación de variable con el proceso de multiplicación\n",
        "multiplicacion = 8 * 6\n",
        "print(multiplicacion)"
      ],
      "metadata": {
        "colab": {
          "base_uri": "https://localhost:8080/"
        },
        "id": "tenRcltaKh_R",
        "outputId": "8f00d8f6-3197-4e4a-da95-288dd7120d34"
      },
      "execution_count": 30,
      "outputs": [
        {
          "output_type": "stream",
          "name": "stdout",
          "text": [
            "48\n"
          ]
        }
      ]
    },
    {
      "cell_type": "markdown",
      "source": [
        "Ejercicio 4: Operaciones"
      ],
      "metadata": {
        "id": "f5PM4b2eKpcj"
      }
    },
    {
      "cell_type": "code",
      "source": [
        "#creación nde variable con el proceso de división\n",
        "division = 45 / 9\n",
        "print(division)"
      ],
      "metadata": {
        "colab": {
          "base_uri": "https://localhost:8080/"
        },
        "id": "6-8EVesiKrc-",
        "outputId": "118f8288-4593-48a5-c983-8986a97cc984"
      },
      "execution_count": 31,
      "outputs": [
        {
          "output_type": "stream",
          "name": "stdout",
          "text": [
            "5.0\n"
          ]
        }
      ]
    },
    {
      "cell_type": "markdown",
      "source": [
        "# **Ejercicio 5: Operaciones**"
      ],
      "metadata": {
        "id": "JVT8VDNJLHR8"
      }
    },
    {
      "cell_type": "code",
      "source": [
        "#creación de variable con proceso de división entera\n",
        "division_entera = 23 // 5\n",
        "print(division_entera)"
      ],
      "metadata": {
        "colab": {
          "base_uri": "https://localhost:8080/"
        },
        "id": "9Rwu6ZCLLIu7",
        "outputId": "4f901fcc-369d-40d1-ccb5-9d4f8c969571"
      },
      "execution_count": 35,
      "outputs": [
        {
          "output_type": "stream",
          "name": "stdout",
          "text": [
            "4\n"
          ]
        }
      ]
    },
    {
      "cell_type": "markdown",
      "source": [
        "# **Ejercicio 6: Operaciones**"
      ],
      "metadata": {
        "id": "dJNUBC27L5Y8"
      }
    },
    {
      "cell_type": "code",
      "source": [
        "#creación de variable con proceso de resto\n",
        "resto = 23 % 5\n",
        "print(resto)\n"
      ],
      "metadata": {
        "colab": {
          "base_uri": "https://localhost:8080/"
        },
        "id": "fQydS3MdMFeT",
        "outputId": "d81baea8-db87-46c8-ec68-8f8124b5730c"
      },
      "execution_count": 36,
      "outputs": [
        {
          "output_type": "stream",
          "name": "stdout",
          "text": [
            "3\n"
          ]
        }
      ]
    },
    {
      "cell_type": "markdown",
      "source": [
        "# **Ejercicio 7: Operaciones**"
      ],
      "metadata": {
        "id": "5GyO6Gl3MdEh"
      }
    },
    {
      "cell_type": "code",
      "source": [
        "#creación de variable con el proceso de número elevado\n",
        "numero_elevado = 2**5\n",
        "print(numero_elevado)"
      ],
      "metadata": {
        "colab": {
          "base_uri": "https://localhost:8080/"
        },
        "id": "HPLE_gEPL78M",
        "outputId": "0727f055-b193-4c79-e909-169de446f6c1"
      },
      "execution_count": 37,
      "outputs": [
        {
          "output_type": "stream",
          "name": "stdout",
          "text": [
            "32\n"
          ]
        }
      ]
    },
    {
      "cell_type": "markdown",
      "source": [
        "# **Precedencia de operadores**"
      ],
      "metadata": {
        "id": "fKFYB7dYNvU-"
      }
    },
    {
      "cell_type": "markdown",
      "source": [
        "Sigamos avanzando con la precedencia de operadores.\n",
        "\n",
        "En Python, es el orden en el que Python evalúa las operaciones cuando hay más de un operador en la misma expresión.\n",
        "\n",
        "Regla general\n",
        "Paréntesis ( )\n",
        "Exponentes **\n",
        "Multiplicación, división /, división entera //, módulo %\n",
        "Suma + y resta -\n",
        "Otros operadores lógicos y de comparación\n",
        "Este es el orden en el cual los debes evaluar."
      ],
      "metadata": {
        "id": "0HjBVME0Nxkk"
      }
    },
    {
      "cell_type": "markdown",
      "source": [
        "# **Ejercicio 1: Precedencia**"
      ],
      "metadata": {
        "id": "X9QsNTEMN0yc"
      }
    },
    {
      "cell_type": "code",
      "source": [
        "print(2+3*4) #imprime en pantalla la operación"
      ],
      "metadata": {
        "colab": {
          "base_uri": "https://localhost:8080/"
        },
        "id": "2e1wbEMDPD3p",
        "outputId": "3839c2cc-5a3a-4edc-a1e7-d29b284de7b3"
      },
      "execution_count": 38,
      "outputs": [
        {
          "output_type": "stream",
          "name": "stdout",
          "text": [
            "14\n"
          ]
        }
      ]
    },
    {
      "cell_type": "markdown",
      "source": [
        "# **Ejercicio 2: Precedencia**"
      ],
      "metadata": {
        "id": "lADfY3GOPLVo"
      }
    },
    {
      "cell_type": "code",
      "source": [
        "print((2+3)*4) #imprime en pantalla la operación"
      ],
      "metadata": {
        "colab": {
          "base_uri": "https://localhost:8080/"
        },
        "id": "f97ujNlOPN5T",
        "outputId": "28ec5dcd-129e-4cfd-9e51-886d855360ad"
      },
      "execution_count": 39,
      "outputs": [
        {
          "output_type": "stream",
          "name": "stdout",
          "text": [
            "20\n"
          ]
        }
      ]
    },
    {
      "cell_type": "markdown",
      "source": [
        "# **Ejercicio 3: Precedencia**"
      ],
      "metadata": {
        "id": "zC2rY4rFPVMI"
      }
    },
    {
      "cell_type": "code",
      "source": [
        "print(10-6/3) #imprime en pantalla la operación"
      ],
      "metadata": {
        "colab": {
          "base_uri": "https://localhost:8080/"
        },
        "id": "x5UncCm8Pakg",
        "outputId": "ae2e71b3-e4b9-402f-b864-476be64c3914"
      },
      "execution_count": 40,
      "outputs": [
        {
          "output_type": "stream",
          "name": "stdout",
          "text": [
            "8.0\n"
          ]
        }
      ]
    },
    {
      "cell_type": "markdown",
      "source": [
        "# **Ejercicio 4: Precedencia**"
      ],
      "metadata": {
        "id": "RkV1Q1DmPh1A"
      }
    },
    {
      "cell_type": "code",
      "source": [
        "print(2+3*4**2) #imprime en pantalla la operación"
      ],
      "metadata": {
        "colab": {
          "base_uri": "https://localhost:8080/"
        },
        "id": "cngkJwB5P5aQ",
        "outputId": "5dcbcfc3-de21-40e2-c8a4-d381dcc675bf"
      },
      "execution_count": 41,
      "outputs": [
        {
          "output_type": "stream",
          "name": "stdout",
          "text": [
            "50\n"
          ]
        }
      ]
    },
    {
      "cell_type": "markdown",
      "source": [
        "# **Ejercicio 5: Precedencia**"
      ],
      "metadata": {
        "id": "qkEgU6UFPj33"
      }
    },
    {
      "cell_type": "code",
      "source": [
        "print((2+3)*4**2) #imprime en pantalla la operación"
      ],
      "metadata": {
        "colab": {
          "base_uri": "https://localhost:8080/"
        },
        "id": "l-baRextQGPO",
        "outputId": "f94b763e-0355-4edf-cd05-b2fb62c7e242"
      },
      "execution_count": 42,
      "outputs": [
        {
          "output_type": "stream",
          "name": "stdout",
          "text": [
            "80\n"
          ]
        }
      ]
    },
    {
      "cell_type": "markdown",
      "source": [
        "# **Ejercicio 6: Precedencia**"
      ],
      "metadata": {
        "id": "-PyKDvvtPpS8"
      }
    },
    {
      "cell_type": "code",
      "source": [
        "print(100/5*2) #imprime en pantalla una operación"
      ],
      "metadata": {
        "colab": {
          "base_uri": "https://localhost:8080/"
        },
        "id": "BXDK5saiQjRV",
        "outputId": "54666f36-0c22-45e7-e732-30300059457c"
      },
      "execution_count": 43,
      "outputs": [
        {
          "output_type": "stream",
          "name": "stdout",
          "text": [
            "40.0\n"
          ]
        }
      ]
    },
    {
      "cell_type": "markdown",
      "source": [
        "# **Ejercicio 7: Precedencia**"
      ],
      "metadata": {
        "id": "VtT-RrrZPxVP"
      }
    },
    {
      "cell_type": "code",
      "source": [
        "7+8//3 #imprime en pantalla una operación"
      ],
      "metadata": {
        "colab": {
          "base_uri": "https://localhost:8080/"
        },
        "id": "vHKwQFGnQ_0T",
        "outputId": "7390ff65-90f0-4103-f152-db1bd025f076"
      },
      "execution_count": 44,
      "outputs": [
        {
          "output_type": "execute_result",
          "data": {
            "text/plain": [
              "9"
            ]
          },
          "metadata": {},
          "execution_count": 44
        }
      ]
    },
    {
      "cell_type": "markdown",
      "source": [
        "# **Ejercicio 8: Precedencia**"
      ],
      "metadata": {
        "id": "N5qcLsZBP0Ze"
      }
    },
    {
      "cell_type": "code",
      "source": [
        "print(7+8%3*2) #imprime en pantalla una operación"
      ],
      "metadata": {
        "colab": {
          "base_uri": "https://localhost:8080/"
        },
        "id": "wesZSP_EP4ig",
        "outputId": "9ca23109-27e6-44b3-f085-0fdd774898cc"
      },
      "execution_count": 45,
      "outputs": [
        {
          "output_type": "stream",
          "name": "stdout",
          "text": [
            "11\n"
          ]
        }
      ]
    },
    {
      "cell_type": "markdown",
      "source": [
        "# **Ejercicio 9: Precedencia**"
      ],
      "metadata": {
        "id": "9yR46WGuQrf0"
      }
    },
    {
      "cell_type": "code",
      "source": [
        "print((17//4)*2+(17%4)) #imprime en pantalla una operación"
      ],
      "metadata": {
        "colab": {
          "base_uri": "https://localhost:8080/"
        },
        "id": "COdaYLuCQu_c",
        "outputId": "aed30880-f32c-4ccb-9a71-dc08851e4bef"
      },
      "execution_count": 46,
      "outputs": [
        {
          "output_type": "stream",
          "name": "stdout",
          "text": [
            "9\n"
          ]
        }
      ]
    },
    {
      "cell_type": "markdown",
      "source": [
        "# **Conversión de tipos**\n"
      ],
      "metadata": {
        "id": "iwaW2MMdSsr9"
      }
    },
    {
      "cell_type": "markdown",
      "source": [
        "Hablemos ahora de conversión de tipos (type conversion).\n",
        "\n",
        "Se refiere al proceso de cambiar el tipo de dato de un valor a otro, por ejemplo, de texto (str) a número (int o float) o viceversa.\n",
        "\n",
        "En Python, esto se hace con funciones integradas como str(), int(), float(), entre otras."
      ],
      "metadata": {
        "id": "04GN6FRfS9fW"
      }
    },
    {
      "cell_type": "markdown",
      "source": [
        "# **Ejercicio 1: Conversión de tipos**"
      ],
      "metadata": {
        "id": "VbUlL1-_V-CX"
      }
    },
    {
      "cell_type": "code",
      "source": [
        "#recepción de un número entero y conversión a float\n",
        "numero_entero = int(input(\"Resgistra un número entero\"))\n",
        "conver_float = float(numero_entero)\n",
        "print(conver_float, type(conver_float))"
      ],
      "metadata": {
        "colab": {
          "base_uri": "https://localhost:8080/"
        },
        "id": "WjpZCIDHTLXO",
        "outputId": "66aadaf1-ac16-4de6-edb1-f7e13597f0d9"
      },
      "execution_count": 47,
      "outputs": [
        {
          "output_type": "stream",
          "name": "stdout",
          "text": [
            "Resgistra un número entero4\n",
            "4.0 <class 'float'>\n"
          ]
        }
      ]
    },
    {
      "cell_type": "markdown",
      "source": [
        "# **Ejercicio 2: Conversión de tipos**"
      ],
      "metadata": {
        "id": "742EMvI9WpVR"
      }
    },
    {
      "cell_type": "code",
      "source": [
        "#conversión de un número float a un número entero y mostrar en pantalla\n",
        "cantindad = 3.99\n",
        "print(int(cantindad))"
      ],
      "metadata": {
        "colab": {
          "base_uri": "https://localhost:8080/"
        },
        "id": "9tpURIgAWsHi",
        "outputId": "d54fc820-1458-407a-9a83-199ed3c239db"
      },
      "execution_count": 53,
      "outputs": [
        {
          "output_type": "stream",
          "name": "stdout",
          "text": [
            "3\n"
          ]
        }
      ]
    },
    {
      "cell_type": "markdown",
      "source": [
        "# **Ejercicio 3: Conversión de tipos**"
      ],
      "metadata": {
        "id": "EWNKvyf3XibH"
      }
    },
    {
      "cell_type": "code",
      "source": [
        "texto = \"2025\"\n",
        "conver_numero = int(texto)\n",
        "print(conver_numero + 5)"
      ],
      "metadata": {
        "colab": {
          "base_uri": "https://localhost:8080/"
        },
        "id": "OgYbobpQYWKC",
        "outputId": "fffd758a-8310-4957-90f3-0713a283a9d5"
      },
      "execution_count": 49,
      "outputs": [
        {
          "output_type": "stream",
          "name": "stdout",
          "text": [
            "2030\n"
          ]
        }
      ]
    },
    {
      "cell_type": "markdown",
      "source": [
        "# **Ejercicio 4: Conversión de tipos**"
      ],
      "metadata": {
        "id": "vNIDzxb0YuKS"
      }
    },
    {
      "cell_type": "code",
      "source": [
        "numero1 = 150\n",
        "conver_texto = str(numero1)\n",
        "print(\"Necesito \" + conver_texto + \" dólares\")"
      ],
      "metadata": {
        "colab": {
          "base_uri": "https://localhost:8080/"
        },
        "id": "I24bTZe_Yw99",
        "outputId": "2f2a563d-269e-4c7b-cb48-7a9853c1c472"
      },
      "execution_count": 51,
      "outputs": [
        {
          "output_type": "stream",
          "name": "stdout",
          "text": [
            "Necesito 150 dólares\n"
          ]
        }
      ]
    },
    {
      "cell_type": "markdown",
      "source": [
        "# **Ejercicio 5: Conversión de tipos**"
      ],
      "metadata": {
        "id": "U6Pm44xtZiG7"
      }
    },
    {
      "cell_type": "code",
      "source": [
        "valor = \"50.5\"\n",
        "print (type(valor))\n",
        "convers_valor = float(valor)\n",
        "print(convers_valor, type(convers_valor))"
      ],
      "metadata": {
        "colab": {
          "base_uri": "https://localhost:8080/"
        },
        "id": "hdkfKUR1ZkWs",
        "outputId": "4f0c0c9b-c585-4e62-daea-df9ec64a943a"
      },
      "execution_count": 55,
      "outputs": [
        {
          "output_type": "stream",
          "name": "stdout",
          "text": [
            "<class 'str'>\n",
            "50.5 <class 'float'>\n"
          ]
        }
      ]
    },
    {
      "cell_type": "markdown",
      "source": [
        "# **Formateo de textos (str)**"
      ],
      "metadata": {
        "id": "-uD9BKYreaJr"
      }
    },
    {
      "cell_type": "markdown",
      "source": [
        "Vamos a hablar ahora del formateo de textos, o también llamado \"text formatting\".\n",
        "\n",
        "Bien, el formateo de textos es la forma de insertar variables o valores dentro de un texto sin tener que concatenar manualmente (+).\n",
        "\n",
        "Permite dar formato, controlar la cantidad de decimales, el orden y el estilo de presentación.\n",
        "\n",
        "Operadores básicos para textos\n",
        "Antes de entrar a los métodos más avanzados, recuerda que en Python existen operadores básicos para trabajar con textos (str):\n",
        "\n",
        "Concatenación (+). Este se encarga de unir textos.\n",
        "Repetición (*). Este se encarga de repetir un texto múltiples veces."
      ],
      "metadata": {
        "id": "4dovO_CHecMr"
      }
    },
    {
      "cell_type": "markdown",
      "source": [
        "# **Ejercicio 1: String Formatting**"
      ],
      "metadata": {
        "id": "wHnjY-E4efNF"
      }
    },
    {
      "cell_type": "code",
      "source": [
        "nombre = \"Eduar\"\n",
        "edad = 40\n",
        "print(f\"Mi nombre es {nombre} y tengo {edad} años\")"
      ],
      "metadata": {
        "colab": {
          "base_uri": "https://localhost:8080/"
        },
        "id": "rL25jL63el3i",
        "outputId": "6492cec5-253a-475c-82eb-4672c3e255ac"
      },
      "execution_count": 56,
      "outputs": [
        {
          "output_type": "stream",
          "name": "stdout",
          "text": [
            "Mi nombre es Eduar y tengo 40 años\n"
          ]
        }
      ]
    },
    {
      "cell_type": "markdown",
      "source": [
        "# **Ejercicio 2: String Formatting**"
      ],
      "metadata": {
        "id": "0xBa0o36fIbS"
      }
    },
    {
      "cell_type": "code",
      "source": [
        "nombre = \"Juan\"\n",
        "deuda = 3.1416\n",
        "print(\"Hola {}, tienes una deuda de {:.2f}\".format(nombre, deuda))"
      ],
      "metadata": {
        "colab": {
          "base_uri": "https://localhost:8080/"
        },
        "id": "lUcO0imqfLsZ",
        "outputId": "51b06c01-92c3-4eb8-d9a0-08e5900c9ba5"
      },
      "execution_count": 60,
      "outputs": [
        {
          "output_type": "stream",
          "name": "stdout",
          "text": [
            "Hola Juan, tienes una deuda de 3.14\n"
          ]
        }
      ]
    },
    {
      "cell_type": "markdown",
      "source": [
        "# **Ejercicio 3: String Formatting**"
      ],
      "metadata": {
        "id": "Ut14cEXohlUy"
      }
    },
    {
      "cell_type": "code",
      "source": [
        "print(f\"El resultado es {5 * 7}\")"
      ],
      "metadata": {
        "colab": {
          "base_uri": "https://localhost:8080/"
        },
        "id": "BdOWVjP4hrv3",
        "outputId": "09b3b4be-5526-4207-d4bf-9391e743abea"
      },
      "execution_count": 61,
      "outputs": [
        {
          "output_type": "stream",
          "name": "stdout",
          "text": [
            "El resultado es 35\n"
          ]
        }
      ]
    },
    {
      "cell_type": "markdown",
      "source": [
        "# **Ejercicio 4: String Formatting**"
      ],
      "metadata": {
        "id": "sQ1FiOKBiskF"
      }
    },
    {
      "cell_type": "code",
      "source": [
        "#Esto me toco investigar ya que no se habia dado con anterioridad.\n",
        "precio = 49.99\n",
        "print(f\"El precio del producto es ${precio:>10}\")"
      ],
      "metadata": {
        "colab": {
          "base_uri": "https://localhost:8080/"
        },
        "id": "CDlZ4GApiwB8",
        "outputId": "85eedc74-ed71-4ad4-d7c3-0b42bd5b9e52"
      },
      "execution_count": 64,
      "outputs": [
        {
          "output_type": "stream",
          "name": "stdout",
          "text": [
            "El precio del producto es $     49.99\n"
          ]
        }
      ]
    },
    {
      "cell_type": "markdown",
      "source": [
        "# **Ejercicio 5: String Formatting**"
      ],
      "metadata": {
        "id": "vLbqNeSRi5oc"
      }
    },
    {
      "cell_type": "code",
      "source": [
        "pi = 3.141592\n",
        "print(f\"Ahoa PI solo tendra {pi:.4f}\")"
      ],
      "metadata": {
        "colab": {
          "base_uri": "https://localhost:8080/"
        },
        "id": "QFswMBXVi8pk",
        "outputId": "d0edd64f-05b7-4deb-cfac-c08b06984022"
      },
      "execution_count": 62,
      "outputs": [
        {
          "output_type": "stream",
          "name": "stdout",
          "text": [
            "Ahoa PI solo tendra 3.1416\n"
          ]
        }
      ]
    }
  ]
}